{
 "cells": [
  {
   "cell_type": "markdown",
   "id": "92465765",
   "metadata": {},
   "source": [
    "# Hypothesis Testing\n",
    "## Startup Survival Analysis in India "
   ]
  },
  {
   "cell_type": "markdown",
   "id": "1f6c6678",
   "metadata": {},
   "source": [
    "**DOMAIN:**\n",
    "Startup Ecosystem\n",
    "\n",
    "**OBJECTIVE:**\n",
    "\n",
    "The objective of this project is to conduct **Hypothesis Testing** to understand the **financial factors** that differentiate thriving, **currently operating startups from those that ultimately cease operations**.\n",
    "\n",
    "In particular, to address the critical questions of **whether there is a statistically significant difference in the mean funds raised by startups** that are currently operating compared to those that have ceased operations. Additionally, we aim to investigate **whether there exists a significant disparity in the number of funding rounds** between currently operating startups and startups that have closed.\n",
    "\n",
    "**DATA:**\n",
    "\n",
    "The dataset comprises of the information about startups in India.\n",
    "\n",
    "*- Dataset Credits --> https://www.kaggle.com/datasets/yanmaksi/big-startup-secsees-fail-dataset-from-crunchbase (Filter on country and status column)*"
   ]
  },
  {
   "cell_type": "markdown",
   "id": "43e2ac9c",
   "metadata": {},
   "source": [
    "**PLAN OF ACTION:**\n",
    "1. **Formulating the Hypothesis:** Begin by crafting clear and testable **hypotheses that lay the foundation** for your analysis.\n",
    "\n",
    "2. **Data Cleaning and Exploration:** Dive into the dataset, conducting a **thorough examination** to ensure its quality and coherence, while also gaining a **deeper understanding of the data.**\n",
    "\n",
    "3. **Selecting the Appropriate Statistical Test:** Identify the most **suitable statistical tests** or methods that align with your hypotheses and objectives.\n",
    "\n",
    "4. **Statistical Analysis:** Execute the selected tests or analyses on the dataset, **generating meaningful insights and drawing statistically sound conclusions.**\n",
    "\n",
    "5. **Conclusion:** Summarize the findings and conclusions drawn from the analysis, **providing actionable insights that address your research objectives effectively.**"
   ]
  },
  {
   "cell_type": "markdown",
   "id": "d69f291b",
   "metadata": {},
   "source": [
    "**Let's start!**"
   ]
  },
  {
   "cell_type": "markdown",
   "id": "0a399aa1",
   "metadata": {},
   "source": [
    "#### STEP 1 : FORMULATING HYPOTHESIS"
   ]
  },
  {
   "cell_type": "markdown",
   "id": "c737807f",
   "metadata": {},
   "source": [
    "**HYPOTHESIS TESTING I:**\n",
    "\n",
    "***Mean Funds Raised***\n",
    "\n",
    "Null Hypothesis (H0): There is no statistically significant difference in the mean funds raised by currently operating startups and startups that have closed.\n",
    "\n",
    "Alternative Hypothesis (H1): There is a statistically significant difference in the mean funds raised by currently operating startups and startups that have closed."
   ]
  },
  {
   "cell_type": "markdown",
   "id": "2868298a",
   "metadata": {},
   "source": [
    "**HYPOTHESIS TESTING II:**\n",
    "\n",
    "***Number of Funding Rounds***\n",
    "\n",
    "Null Hypothesis (H0): There is no statistically significant difference in the number of funding rounds between currently operating startups and startups that have closed.\n",
    "\n",
    "Alternative Hypothesis (H1): There is a statistically significant difference in the number of funding rounds between currently operating startups and startups that have closed."
   ]
  },
  {
   "cell_type": "markdown",
   "id": "0083ef4d",
   "metadata": {},
   "source": [
    "#### STEP 2 : DATA CLEANING AND EXPLORATION"
   ]
  },
  {
   "cell_type": "markdown",
   "id": "afa3b04f",
   "metadata": {},
   "source": [
    "We have formualted the hypothesis successfully. Now, let's explore the dataset and commence our analysis"
   ]
  },
  {
   "cell_type": "code",
   "execution_count": 1,
   "id": "9b5b7aaa",
   "metadata": {},
   "outputs": [],
   "source": [
    "#Importing the libraries\n",
    "\n",
    "import numpy as np\n",
    "import pandas as pd\n",
    "import matplotlib.pyplot as plt\n",
    "import seaborn as sns\n",
    "\n",
    "%matplotlib inline"
   ]
  },
  {
   "cell_type": "code",
   "execution_count": 183,
   "id": "4e6ad561",
   "metadata": {},
   "outputs": [],
   "source": [
    "#Importing the dataset\n",
    "\n",
    "startup_df = pd.read_excel(r\"C:\\Users\\kzxf368\\OneDrive - AZCollaboration\\Desktop\\Data Science\\Python\\DUO\\Project - Startup & Flight\\Funding Dataset.xlsx\")"
   ]
  },
  {
   "cell_type": "code",
   "execution_count": 187,
   "id": "0005abf6",
   "metadata": {},
   "outputs": [
    {
     "data": {
      "text/html": [
       "<div>\n",
       "<style scoped>\n",
       "    .dataframe tbody tr th:only-of-type {\n",
       "        vertical-align: middle;\n",
       "    }\n",
       "\n",
       "    .dataframe tbody tr th {\n",
       "        vertical-align: top;\n",
       "    }\n",
       "\n",
       "    .dataframe thead th {\n",
       "        text-align: right;\n",
       "    }\n",
       "</style>\n",
       "<table border=\"1\" class=\"dataframe\">\n",
       "  <thead>\n",
       "    <tr style=\"text-align: right;\">\n",
       "      <th></th>\n",
       "      <th>permalink</th>\n",
       "      <th>name</th>\n",
       "      <th>homepage_url</th>\n",
       "      <th>category_list</th>\n",
       "      <th>funding_total_usd</th>\n",
       "      <th>status</th>\n",
       "      <th>country_code</th>\n",
       "      <th>state_code</th>\n",
       "      <th>region</th>\n",
       "      <th>city</th>\n",
       "      <th>funding_rounds</th>\n",
       "      <th>founded_at</th>\n",
       "      <th>first_funding_at</th>\n",
       "      <th>last_funding_at</th>\n",
       "    </tr>\n",
       "  </thead>\n",
       "  <tbody>\n",
       "    <tr>\n",
       "      <th>0</th>\n",
       "      <td>/organization/-fame</td>\n",
       "      <td>#fame</td>\n",
       "      <td>http://livfame.com</td>\n",
       "      <td>Media</td>\n",
       "      <td>10000000</td>\n",
       "      <td>operating</td>\n",
       "      <td>IND</td>\n",
       "      <td>16</td>\n",
       "      <td>Mumbai</td>\n",
       "      <td>Mumbai</td>\n",
       "      <td>1</td>\n",
       "      <td>NaN</td>\n",
       "      <td>2015-01-05</td>\n",
       "      <td>2015-01-05</td>\n",
       "    </tr>\n",
       "    <tr>\n",
       "      <th>1</th>\n",
       "      <td>/organization/1000lookz</td>\n",
       "      <td>1000Lookz</td>\n",
       "      <td>http://1000lookz.com</td>\n",
       "      <td>Beauty</td>\n",
       "      <td>-</td>\n",
       "      <td>operating</td>\n",
       "      <td>IND</td>\n",
       "      <td>25</td>\n",
       "      <td>Chennai</td>\n",
       "      <td>Chennai</td>\n",
       "      <td>1</td>\n",
       "      <td>2008-01-01 00:00:00</td>\n",
       "      <td>2013-07-22</td>\n",
       "      <td>2013-07-22</td>\n",
       "    </tr>\n",
       "    <tr>\n",
       "      <th>2</th>\n",
       "      <td>/organization/21diamonds-india</td>\n",
       "      <td>21Diamonds</td>\n",
       "      <td>http://www.21diamonds.de</td>\n",
       "      <td>E-Commerce</td>\n",
       "      <td>6369507</td>\n",
       "      <td>operating</td>\n",
       "      <td>IND</td>\n",
       "      <td>10</td>\n",
       "      <td>New Delhi</td>\n",
       "      <td>Gurgaon</td>\n",
       "      <td>1</td>\n",
       "      <td>2012-06-01 00:00:00</td>\n",
       "      <td>2012-11-15</td>\n",
       "      <td>2012-11-15</td>\n",
       "    </tr>\n",
       "    <tr>\n",
       "      <th>3</th>\n",
       "      <td>/organization/247-learning-private</td>\n",
       "      <td>24x7 Learning</td>\n",
       "      <td>http://www.24x7learning.com</td>\n",
       "      <td>EdTech|Education|Systems</td>\n",
       "      <td>4000000</td>\n",
       "      <td>operating</td>\n",
       "      <td>IND</td>\n",
       "      <td>19</td>\n",
       "      <td>Bangalore</td>\n",
       "      <td>Bangalore</td>\n",
       "      <td>1</td>\n",
       "      <td>2001-01-01 00:00:00</td>\n",
       "      <td>2007-11-06</td>\n",
       "      <td>2007-11-06</td>\n",
       "    </tr>\n",
       "    <tr>\n",
       "      <th>4</th>\n",
       "      <td>/organization/33coupons</td>\n",
       "      <td>33Coupons</td>\n",
       "      <td>http://33coupons.in</td>\n",
       "      <td>Internet</td>\n",
       "      <td>20000</td>\n",
       "      <td>operating</td>\n",
       "      <td>IND</td>\n",
       "      <td>36</td>\n",
       "      <td>Kanpur</td>\n",
       "      <td>Kanpur</td>\n",
       "      <td>1</td>\n",
       "      <td>2015-05-01 00:00:00</td>\n",
       "      <td>2015-07-06</td>\n",
       "      <td>2015-07-06</td>\n",
       "    </tr>\n",
       "  </tbody>\n",
       "</table>\n",
       "</div>"
      ],
      "text/plain": [
       "                            permalink           name  \\\n",
       "0                 /organization/-fame          #fame   \n",
       "1             /organization/1000lookz      1000Lookz   \n",
       "2      /organization/21diamonds-india     21Diamonds   \n",
       "3  /organization/247-learning-private  24x7 Learning   \n",
       "4             /organization/33coupons      33Coupons   \n",
       "\n",
       "                  homepage_url             category_list funding_total_usd  \\\n",
       "0           http://livfame.com                     Media          10000000   \n",
       "1         http://1000lookz.com                    Beauty                 -   \n",
       "2     http://www.21diamonds.de                E-Commerce           6369507   \n",
       "3  http://www.24x7learning.com  EdTech|Education|Systems           4000000   \n",
       "4          http://33coupons.in                  Internet             20000   \n",
       "\n",
       "      status country_code  state_code     region       city  funding_rounds  \\\n",
       "0  operating          IND          16     Mumbai     Mumbai               1   \n",
       "1  operating          IND          25    Chennai    Chennai               1   \n",
       "2  operating          IND          10  New Delhi    Gurgaon               1   \n",
       "3  operating          IND          19  Bangalore  Bangalore               1   \n",
       "4  operating          IND          36     Kanpur     Kanpur               1   \n",
       "\n",
       "            founded_at first_funding_at last_funding_at  \n",
       "0                  NaN       2015-01-05      2015-01-05  \n",
       "1  2008-01-01 00:00:00       2013-07-22      2013-07-22  \n",
       "2  2012-06-01 00:00:00       2012-11-15      2012-11-15  \n",
       "3  2001-01-01 00:00:00       2007-11-06      2007-11-06  \n",
       "4  2015-05-01 00:00:00       2015-07-06      2015-07-06  "
      ]
     },
     "execution_count": 187,
     "metadata": {},
     "output_type": "execute_result"
    }
   ],
   "source": [
    "#Exploring the dataset\n",
    "\n",
    "startup_df.head()"
   ]
  },
  {
   "cell_type": "code",
   "execution_count": 188,
   "id": "1dd0c800",
   "metadata": {},
   "outputs": [
    {
     "data": {
      "text/html": [
       "<div>\n",
       "<style scoped>\n",
       "    .dataframe tbody tr th:only-of-type {\n",
       "        vertical-align: middle;\n",
       "    }\n",
       "\n",
       "    .dataframe tbody tr th {\n",
       "        vertical-align: top;\n",
       "    }\n",
       "\n",
       "    .dataframe thead th {\n",
       "        text-align: right;\n",
       "    }\n",
       "</style>\n",
       "<table border=\"1\" class=\"dataframe\">\n",
       "  <thead>\n",
       "    <tr style=\"text-align: right;\">\n",
       "      <th></th>\n",
       "      <th>permalink</th>\n",
       "      <th>name</th>\n",
       "      <th>homepage_url</th>\n",
       "      <th>category_list</th>\n",
       "      <th>funding_total_usd</th>\n",
       "      <th>status</th>\n",
       "      <th>country_code</th>\n",
       "      <th>state_code</th>\n",
       "      <th>region</th>\n",
       "      <th>city</th>\n",
       "      <th>funding_rounds</th>\n",
       "      <th>founded_at</th>\n",
       "      <th>first_funding_at</th>\n",
       "      <th>last_funding_at</th>\n",
       "    </tr>\n",
       "  </thead>\n",
       "  <tbody>\n",
       "    <tr>\n",
       "      <th>1531</th>\n",
       "      <td>/organization/zoutons</td>\n",
       "      <td>Zoutons</td>\n",
       "      <td>http://zoutons.com</td>\n",
       "      <td>E-Commerce|Online Shopping|Sales and Marketing</td>\n",
       "      <td>3300000</td>\n",
       "      <td>operating</td>\n",
       "      <td>IND</td>\n",
       "      <td>7</td>\n",
       "      <td>New Delhi</td>\n",
       "      <td>New Delhi</td>\n",
       "      <td>1</td>\n",
       "      <td>2013-01-01 00:00:00</td>\n",
       "      <td>2013-09-06</td>\n",
       "      <td>2013-09-06</td>\n",
       "    </tr>\n",
       "    <tr>\n",
       "      <th>1532</th>\n",
       "      <td>/organization/zumbl</td>\n",
       "      <td>Zumbl</td>\n",
       "      <td>http://zumbl.com</td>\n",
       "      <td>Chat|Entertainment|Interest Graph|Messaging</td>\n",
       "      <td>140000</td>\n",
       "      <td>operating</td>\n",
       "      <td>IND</td>\n",
       "      <td>10</td>\n",
       "      <td>New Delhi</td>\n",
       "      <td>Gurgaon</td>\n",
       "      <td>3</td>\n",
       "      <td>2012-11-01 00:00:00</td>\n",
       "      <td>2013-04-03</td>\n",
       "      <td>2014-04-05</td>\n",
       "    </tr>\n",
       "    <tr>\n",
       "      <th>1533</th>\n",
       "      <td>/organization/zupermeal</td>\n",
       "      <td>ZuperMeal</td>\n",
       "      <td>http://www.zupermeal.com</td>\n",
       "      <td>Food Processing</td>\n",
       "      <td>2000000</td>\n",
       "      <td>operating</td>\n",
       "      <td>IND</td>\n",
       "      <td>16</td>\n",
       "      <td>IND - Other</td>\n",
       "      <td>Andheri</td>\n",
       "      <td>1</td>\n",
       "      <td>NaN</td>\n",
       "      <td>2015-10-08</td>\n",
       "      <td>2015-10-08</td>\n",
       "    </tr>\n",
       "    <tr>\n",
       "      <th>1534</th>\n",
       "      <td>/organization/zuvvu</td>\n",
       "      <td>Zuvvu</td>\n",
       "      <td>http://zuvvu.com</td>\n",
       "      <td>Advertising|Social Media Advertising|Social Me...</td>\n",
       "      <td>12000</td>\n",
       "      <td>closed</td>\n",
       "      <td>IND</td>\n",
       "      <td>9</td>\n",
       "      <td>Ahmedabad</td>\n",
       "      <td>Ahmadabad</td>\n",
       "      <td>1</td>\n",
       "      <td>2010-06-01 00:00:00</td>\n",
       "      <td>2011-11-01</td>\n",
       "      <td>2011-11-01</td>\n",
       "    </tr>\n",
       "    <tr>\n",
       "      <th>1535</th>\n",
       "      <td>/organization/zynergy-projects-services</td>\n",
       "      <td>Zynergy Projects &amp; Services</td>\n",
       "      <td>http://www.zynergygroup.net/</td>\n",
       "      <td>Clean Technology</td>\n",
       "      <td>-</td>\n",
       "      <td>operating</td>\n",
       "      <td>IND</td>\n",
       "      <td>25</td>\n",
       "      <td>Chennai</td>\n",
       "      <td>Chennai</td>\n",
       "      <td>1</td>\n",
       "      <td>NaN</td>\n",
       "      <td>2015-08-19</td>\n",
       "      <td>2015-08-19</td>\n",
       "    </tr>\n",
       "  </tbody>\n",
       "</table>\n",
       "</div>"
      ],
      "text/plain": [
       "                                    permalink                         name  \\\n",
       "1531                    /organization/zoutons                      Zoutons   \n",
       "1532                      /organization/zumbl                        Zumbl   \n",
       "1533                  /organization/zupermeal                    ZuperMeal   \n",
       "1534                      /organization/zuvvu                        Zuvvu   \n",
       "1535  /organization/zynergy-projects-services  Zynergy Projects & Services   \n",
       "\n",
       "                      homepage_url  \\\n",
       "1531            http://zoutons.com   \n",
       "1532              http://zumbl.com   \n",
       "1533      http://www.zupermeal.com   \n",
       "1534              http://zuvvu.com   \n",
       "1535  http://www.zynergygroup.net/   \n",
       "\n",
       "                                          category_list funding_total_usd  \\\n",
       "1531     E-Commerce|Online Shopping|Sales and Marketing           3300000   \n",
       "1532        Chat|Entertainment|Interest Graph|Messaging            140000   \n",
       "1533                                    Food Processing           2000000   \n",
       "1534  Advertising|Social Media Advertising|Social Me...             12000   \n",
       "1535                                   Clean Technology                 -   \n",
       "\n",
       "         status country_code  state_code       region       city  \\\n",
       "1531  operating          IND           7    New Delhi  New Delhi   \n",
       "1532  operating          IND          10    New Delhi    Gurgaon   \n",
       "1533  operating          IND          16  IND - Other    Andheri   \n",
       "1534     closed          IND           9    Ahmedabad  Ahmadabad   \n",
       "1535  operating          IND          25      Chennai    Chennai   \n",
       "\n",
       "      funding_rounds           founded_at first_funding_at last_funding_at  \n",
       "1531               1  2013-01-01 00:00:00       2013-09-06      2013-09-06  \n",
       "1532               3  2012-11-01 00:00:00       2013-04-03      2014-04-05  \n",
       "1533               1                  NaN       2015-10-08      2015-10-08  \n",
       "1534               1  2010-06-01 00:00:00       2011-11-01      2011-11-01  \n",
       "1535               1                  NaN       2015-08-19      2015-08-19  "
      ]
     },
     "execution_count": 188,
     "metadata": {},
     "output_type": "execute_result"
    }
   ],
   "source": [
    "startup_df.tail()"
   ]
  },
  {
   "cell_type": "code",
   "execution_count": 184,
   "id": "40651ab5",
   "metadata": {},
   "outputs": [
    {
     "data": {
      "text/plain": [
       "(1536, 14)"
      ]
     },
     "execution_count": 184,
     "metadata": {},
     "output_type": "execute_result"
    }
   ],
   "source": [
    "startup_df.shape"
   ]
  },
  {
   "cell_type": "markdown",
   "id": "e35dc2e7",
   "metadata": {},
   "source": [
    "The dataset consists inforamtion on **1536 startups.** Though all 13 columns provides valuable details, we primarily focus on the columns which relate to the **financial aspects of the startups survival.** They are **\"Status\", \"Funding_Total_Usd\"** and **\"Funding_Rounds\".**"
   ]
  },
  {
   "cell_type": "markdown",
   "id": "3930b198",
   "metadata": {},
   "source": [
    "Before diving deep into data exploration, we need to **clean the dataset.**"
   ]
  },
  {
   "cell_type": "code",
   "execution_count": 185,
   "id": "02986898",
   "metadata": {},
   "outputs": [
    {
     "data": {
      "text/plain": [
       "(1536, 14)"
      ]
     },
     "execution_count": 185,
     "metadata": {},
     "output_type": "execute_result"
    }
   ],
   "source": [
    "#Drop the duplicates if there are any\n",
    "\n",
    "startup_df.drop_duplicates().shape"
   ]
  },
  {
   "cell_type": "code",
   "execution_count": 186,
   "id": "3cf76b22",
   "metadata": {},
   "outputs": [
    {
     "name": "stdout",
     "output_type": "stream",
     "text": [
      "status               0\n",
      "funding_total_usd    0\n",
      "funding_rounds       0\n",
      "dtype: int64\n"
     ]
    }
   ],
   "source": [
    "# The columns which has to be checked for null values are listed\n",
    "columns_to_check = ['status', 'funding_total_usd', 'funding_rounds']\n",
    "\n",
    "# Check for null values in the specified columns\n",
    "null_counts = startup_df[columns_to_check].isnull().sum()\n",
    "\n",
    "# Display the null value counts for each column\n",
    "print(null_counts)"
   ]
  },
  {
   "cell_type": "code",
   "execution_count": 189,
   "id": "3facadd7",
   "metadata": {},
   "outputs": [
    {
     "name": "stdout",
     "output_type": "stream",
     "text": [
      "<class 'pandas.core.frame.DataFrame'>\n",
      "RangeIndex: 1536 entries, 0 to 1535\n",
      "Data columns (total 14 columns):\n",
      " #   Column             Non-Null Count  Dtype         \n",
      "---  ------             --------------  -----         \n",
      " 0   permalink          1536 non-null   object        \n",
      " 1   name               1536 non-null   object        \n",
      " 2   homepage_url       1510 non-null   object        \n",
      " 3   category_list      1493 non-null   object        \n",
      " 4   funding_total_usd  1536 non-null   object        \n",
      " 5   status             1536 non-null   object        \n",
      " 6   country_code       1536 non-null   object        \n",
      " 7   state_code         1520 non-null   float64       \n",
      " 8   region             1516 non-null   object        \n",
      " 9   city               1516 non-null   object        \n",
      " 10  funding_rounds     1536 non-null   int64         \n",
      " 11  founded_at         1255 non-null   object        \n",
      " 12  first_funding_at   1536 non-null   datetime64[ns]\n",
      " 13  last_funding_at    1536 non-null   datetime64[ns]\n",
      "dtypes: datetime64[ns](2), float64(1), int64(1), object(10)\n",
      "memory usage: 168.1+ KB\n"
     ]
    }
   ],
   "source": [
    "startup_df.info()"
   ]
  },
  {
   "cell_type": "markdown",
   "id": "43378b76",
   "metadata": {},
   "source": [
    "There are **no null or duplicate values** in the dataset. But we could see that data in the **total_funding_rounds** column should be **cleaned and the datatype should be formatted** for proper analysis."
   ]
  },
  {
   "cell_type": "code",
   "execution_count": 196,
   "id": "b4ebb4a6",
   "metadata": {},
   "outputs": [
    {
     "data": {
      "text/plain": [
       "(1134, 14)"
      ]
     },
     "execution_count": 196,
     "metadata": {},
     "output_type": "execute_result"
    }
   ],
   "source": [
    "#Dropping the columns without proper data and resetting the index values\n",
    "\n",
    "startup_df = startup_df[startup_df['funding_total_usd']!='-']\n",
    "startup_df.reset_index(drop = True)\n",
    "\n",
    "startup_df.shape"
   ]
  },
  {
   "cell_type": "code",
   "execution_count": 211,
   "id": "21f7d178",
   "metadata": {},
   "outputs": [],
   "source": [
    "#Formatting the dataset to float datatype\n",
    "\n",
    "startup_df['funding_total_usd'] = pd.to_numeric(startup_df['funding_total_usd'], errors='coerce')\n",
    "startup_df['funding_total_usd'] = startup_df['funding_total_usd'].astype('float')"
   ]
  },
  {
   "cell_type": "code",
   "execution_count": 212,
   "id": "8ada9c72",
   "metadata": {},
   "outputs": [
    {
     "name": "stdout",
     "output_type": "stream",
     "text": [
      "<class 'pandas.core.frame.DataFrame'>\n",
      "Index: 1134 entries, 0 to 1534\n",
      "Data columns (total 14 columns):\n",
      " #   Column             Non-Null Count  Dtype         \n",
      "---  ------             --------------  -----         \n",
      " 0   permalink          1134 non-null   object        \n",
      " 1   name               1134 non-null   object        \n",
      " 2   homepage_url       1113 non-null   object        \n",
      " 3   category_list      1115 non-null   object        \n",
      " 4   funding_total_usd  1134 non-null   float64       \n",
      " 5   status             1134 non-null   object        \n",
      " 6   country_code       1134 non-null   object        \n",
      " 7   state_code         1125 non-null   float64       \n",
      " 8   region             1122 non-null   object        \n",
      " 9   city               1122 non-null   object        \n",
      " 10  funding_rounds     1134 non-null   int64         \n",
      " 11  founded_at         940 non-null    object        \n",
      " 12  first_funding_at   1134 non-null   datetime64[ns]\n",
      " 13  last_funding_at    1134 non-null   datetime64[ns]\n",
      "dtypes: datetime64[ns](2), float64(2), int64(1), object(9)\n",
      "memory usage: 132.9+ KB\n"
     ]
    }
   ],
   "source": [
    "startup_df.info()"
   ]
  },
  {
   "cell_type": "markdown",
   "id": "71482c1e",
   "metadata": {},
   "source": [
    "Let's do **Exploratory Data Anlysis** in the cleaned dataset.\n",
    "\n",
    "At first the \"Status\" column."
   ]
  },
  {
   "cell_type": "code",
   "execution_count": 208,
   "id": "7dda4bb3",
   "metadata": {},
   "outputs": [
    {
     "data": {
      "text/plain": [
       "status\n",
       "operating    1085\n",
       "closed         49\n",
       "Name: count, dtype: int64"
      ]
     },
     "execution_count": 208,
     "metadata": {},
     "output_type": "execute_result"
    }
   ],
   "source": [
    "status_counts = startup_df['status'].value_counts()\n",
    "status_counts\n",
    "\n",
    "# status_counts --> Series datatype\n",
    "# The status_counts.index consists of \"operating\" and \"closed\"\n",
    "# The status_counts.values consists of \"1085\" and \"49\""
   ]
  },
  {
   "cell_type": "code",
   "execution_count": 206,
   "id": "8075e2ce",
   "metadata": {},
   "outputs": [
    {
     "name": "stdout",
     "output_type": "stream",
     "text": [
      "[(0, 1085), (1, 49)]\n"
     ]
    }
   ],
   "source": [
    "enumerate(status_counts)\n",
    "\n",
    "#enumerate function takes as input, an iterable and adds a counter to each iterable element, and returns an \n",
    "#enumerate object. The counter can also act as indices to each element which can be used to reference these \n",
    "#elements at a later stage when required. \n",
    "\n",
    "print(list(enumerate(status_counts)))"
   ]
  },
  {
   "cell_type": "code",
   "execution_count": 198,
   "id": "564a874d",
   "metadata": {},
   "outputs": [
    {
     "data": {
      "text/plain": [
       "status\n",
       "operating    False\n",
       "closed       False\n",
       "Name: count, dtype: bool"
      ]
     },
     "execution_count": 198,
     "metadata": {},
     "output_type": "execute_result"
    }
   ],
   "source": [
    "status_counts.isnull()"
   ]
  },
  {
   "cell_type": "markdown",
   "id": "401a61ae",
   "metadata": {},
   "source": [
    "There are no null values"
   ]
  },
  {
   "cell_type": "code",
   "execution_count": 251,
   "id": "fc98f0e0",
   "metadata": {},
   "outputs": [
    {
     "data": {
      "image/png": "[encoded data removed]",
      "text/plain": [
       "<Figure size 500x500 with 1 Axes>"
      ]
     },
     "metadata": {},
     "output_type": "display_data"
    }
   ],
   "source": [
    "#Visualize the status column\n",
    "\n",
    "#Plotting\n",
    "plt.figure(figsize=(5,5))\n",
    "\n",
    "plt.bar(status_counts.index,status_counts.values,color='#87ae73')\n",
    "plt.xlabel(\"Status of Startups\")\n",
    "plt.ylabel(\"Count\")\n",
    "plt.title(\"Distribution of the Startup Status\")\n",
    "\n",
    "# Sage green colour as \"#87ae73\"\n",
    "# The X and Y atttributes are taken from the status_counts series\n",
    "\n",
    "#Adding labels to the bars\n",
    "for x,y in status_counts.items():\n",
    "    plt.text(x,y+10,y,ha='center')\n",
    "    \n",
    "# x: This is the x-coordinate where the data label will be placed.\n",
    "# y + 10: This is the y-coordinate where the data label will be placed\n",
    "# y: the y-coordinate to be plotted\n",
    "# ha='center': This parameter specifies the horizontal alignment of the text, ensuring that it's centered above each bar.\n",
    "\n",
    "#Display the bar graph\n",
    "plt.show()"
   ]
  },
  {
   "cell_type": "markdown",
   "id": "193f2480",
   "metadata": {},
   "source": [
    "We have successfully visualized the \"Status\" column. Now, let's move to the funding column"
   ]
  },
  {
   "cell_type": "code",
   "execution_count": 213,
   "id": "d4cfb3d0",
   "metadata": {},
   "outputs": [
    {
     "name": "stdout",
     "output_type": "stream",
     "text": [
      "count         1134\n",
      "mean      23391193\n",
      "std      153640842\n",
      "min            569\n",
      "25%         200000\n",
      "50%        1275000\n",
      "75%       10000000\n",
      "max     3151140000\n",
      "Name: funding_total_usd, dtype: float64\n"
     ]
    }
   ],
   "source": [
    "# Let us understand more about funding column\n",
    "\n",
    "# Set the display format for float numbers to display complete numbers\n",
    "pd.options.display.float_format = '{:.0f}'.format\n",
    "\n",
    "# By setting pd.options.display.float_format to ' {:.0f}'.format, you instruct pandas to format floating-point numbers with \n",
    "# zero decimal places, effectively displaying complete numbers.\n",
    "\n",
    "# Assuming startup_df is your DataFrame\n",
    "description = startup_df['funding_total_usd'].describe()\n",
    "\n",
    "# Display the description with complete numbers\n",
    "print(description)"
   ]
  },
  {
   "cell_type": "markdown",
   "id": "0c15abb5",
   "metadata": {},
   "source": [
    "Let's find out the startups with the **highest and least fundings.**"
   ]
  },
  {
   "cell_type": "code",
   "execution_count": 214,
   "id": "6b965362",
   "metadata": {},
   "outputs": [
    {
     "data": {
      "text/html": [
       "<div>\n",
       "<style scoped>\n",
       "    .dataframe tbody tr th:only-of-type {\n",
       "        vertical-align: middle;\n",
       "    }\n",
       "\n",
       "    .dataframe tbody tr th {\n",
       "        vertical-align: top;\n",
       "    }\n",
       "\n",
       "    .dataframe thead th {\n",
       "        text-align: right;\n",
       "    }\n",
       "</style>\n",
       "<table border=\"1\" class=\"dataframe\">\n",
       "  <thead>\n",
       "    <tr style=\"text-align: right;\">\n",
       "      <th></th>\n",
       "      <th>permalink</th>\n",
       "      <th>name</th>\n",
       "      <th>homepage_url</th>\n",
       "      <th>category_list</th>\n",
       "      <th>funding_total_usd</th>\n",
       "      <th>status</th>\n",
       "      <th>country_code</th>\n",
       "      <th>state_code</th>\n",
       "      <th>region</th>\n",
       "      <th>city</th>\n",
       "      <th>funding_rounds</th>\n",
       "      <th>founded_at</th>\n",
       "      <th>first_funding_at</th>\n",
       "      <th>last_funding_at</th>\n",
       "    </tr>\n",
       "  </thead>\n",
       "  <tbody>\n",
       "    <tr>\n",
       "      <th>434</th>\n",
       "      <td>/organization/flipkart</td>\n",
       "      <td>Flipkart</td>\n",
       "      <td>http://www.flipkart.com</td>\n",
       "      <td>E-Commerce|Online Shopping</td>\n",
       "      <td>3151140000</td>\n",
       "      <td>operating</td>\n",
       "      <td>IND</td>\n",
       "      <td>19</td>\n",
       "      <td>Bangalore</td>\n",
       "      <td>Bangalore</td>\n",
       "      <td>12</td>\n",
       "      <td>2007-09-01 00:00:00</td>\n",
       "      <td>2009-01-01</td>\n",
       "      <td>2015-07-28</td>\n",
       "    </tr>\n",
       "  </tbody>\n",
       "</table>\n",
       "</div>"
      ],
      "text/plain": [
       "                  permalink      name             homepage_url  \\\n",
       "434  /organization/flipkart  Flipkart  http://www.flipkart.com   \n",
       "\n",
       "                  category_list  funding_total_usd     status country_code  \\\n",
       "434  E-Commerce|Online Shopping         3151140000  operating          IND   \n",
       "\n",
       "     state_code     region       city  funding_rounds           founded_at  \\\n",
       "434          19  Bangalore  Bangalore              12  2007-09-01 00:00:00   \n",
       "\n",
       "    first_funding_at last_funding_at  \n",
       "434       2009-01-01      2015-07-28  "
      ]
     },
     "execution_count": 214,
     "metadata": {},
     "output_type": "execute_result"
    }
   ],
   "source": [
    "startup_df[startup_df['funding_total_usd']==3151140000]"
   ]
  },
  {
   "cell_type": "code",
   "execution_count": 97,
   "id": "e3514f4a",
   "metadata": {},
   "outputs": [
    {
     "data": {
      "text/html": [
       "<div>\n",
       "<style scoped>\n",
       "    .dataframe tbody tr th:only-of-type {\n",
       "        vertical-align: middle;\n",
       "    }\n",
       "\n",
       "    .dataframe tbody tr th {\n",
       "        vertical-align: top;\n",
       "    }\n",
       "\n",
       "    .dataframe thead th {\n",
       "        text-align: right;\n",
       "    }\n",
       "</style>\n",
       "<table border=\"1\" class=\"dataframe\">\n",
       "  <thead>\n",
       "    <tr style=\"text-align: right;\">\n",
       "      <th></th>\n",
       "      <th>permalink</th>\n",
       "      <th>name</th>\n",
       "      <th>homepage_url</th>\n",
       "      <th>category_list</th>\n",
       "      <th>funding_total_usd</th>\n",
       "      <th>status</th>\n",
       "      <th>country_code</th>\n",
       "      <th>state_code</th>\n",
       "      <th>region</th>\n",
       "      <th>city</th>\n",
       "      <th>funding_rounds</th>\n",
       "      <th>founded_at</th>\n",
       "      <th>first_funding_at</th>\n",
       "      <th>last_funding_at</th>\n",
       "    </tr>\n",
       "  </thead>\n",
       "  <tbody>\n",
       "    <tr>\n",
       "      <th>834</th>\n",
       "      <td>/organization/ruralserver</td>\n",
       "      <td>RuralServer</td>\n",
       "      <td>http://www.ruralserver.com</td>\n",
       "      <td>Cloud Computing|Cloud Data Services|Domains|In...</td>\n",
       "      <td>569</td>\n",
       "      <td>operating</td>\n",
       "      <td>IND</td>\n",
       "      <td>36</td>\n",
       "      <td>New Delhi</td>\n",
       "      <td>Noida</td>\n",
       "      <td>1</td>\n",
       "      <td>2010-01-01 00:00:00</td>\n",
       "      <td>2013-10-17</td>\n",
       "      <td>2013-10-17</td>\n",
       "    </tr>\n",
       "  </tbody>\n",
       "</table>\n",
       "</div>"
      ],
      "text/plain": [
       "                     permalink         name                homepage_url  \\\n",
       "834  /organization/ruralserver  RuralServer  http://www.ruralserver.com   \n",
       "\n",
       "                                         category_list  funding_total_usd  \\\n",
       "834  Cloud Computing|Cloud Data Services|Domains|In...                569   \n",
       "\n",
       "        status country_code  state_code     region   city  funding_rounds  \\\n",
       "834  operating          IND          36  New Delhi  Noida               1   \n",
       "\n",
       "              founded_at first_funding_at last_funding_at  \n",
       "834  2010-01-01 00:00:00       2013-10-17      2013-10-17  "
      ]
     },
     "execution_count": 97,
     "metadata": {},
     "output_type": "execute_result"
    }
   ],
   "source": [
    "startup_df[startup_df['funding_total_usd']==569]"
   ]
  },
  {
   "cell_type": "markdown",
   "id": "d25a9dff",
   "metadata": {},
   "source": [
    "**Highest funding:** Flipkart\n",
    "\n",
    "**Lowest funding:** RuralServer\t\n",
    "\n",
    "The highest funding amount is attributed to Flipkart, a notable leader in the industry, aligning with its substantial financial requirements and prominence.\n",
    "Though **Rural Server** is the startup with the **least funding, it is successfully operating.** "
   ]
  },
  {
   "cell_type": "markdown",
   "id": "c1e36639",
   "metadata": {},
   "source": [
    "Let's explore the \"Funding_Rounds\" column."
   ]
  },
  {
   "cell_type": "code",
   "execution_count": 215,
   "id": "4fb841ab",
   "metadata": {},
   "outputs": [
    {
     "data": {
      "text/plain": [
       "funding_rounds\n",
       "1     795\n",
       "2     205\n",
       "3      88\n",
       "4      27\n",
       "5       9\n",
       "6       5\n",
       "7       2\n",
       "8       1\n",
       "11      1\n",
       "12      1\n",
       "Name: count, dtype: int64"
      ]
     },
     "execution_count": 215,
     "metadata": {},
     "output_type": "execute_result"
    }
   ],
   "source": [
    "funding_rounds_count = startup_df['funding_rounds'].value_counts().sort_index()\n",
    "funding_rounds_count"
   ]
  },
  {
   "cell_type": "code",
   "execution_count": 219,
   "id": "11efb727",
   "metadata": {},
   "outputs": [
    {
     "data": {
      "image/png": "[encoded data removed]",
      "text/plain": [
       "<Figure size 1000x500 with 1 Axes>"
      ]
     },
     "metadata": {},
     "output_type": "display_data"
    }
   ],
   "source": [
    "#Let's visualize\n",
    "\n",
    "plt.figure(figsize=(10,5))\n",
    "plt.bar(funding_rounds_count.index,funding_rounds_count.values,color = 'skyblue')\n",
    "plt.xlabel('No. of Funding Rounds')\n",
    "plt.ylabel('No. of Start-ups')\n",
    "plt.title('Distribution of the no. of funding rounds for the startups')\n",
    "\n",
    "for x,y in funding_rounds_count.items():\n",
    "    plt.text(x,y+8,y,ha='center')\n",
    "\n",
    "plt.show()"
   ]
  },
  {
   "cell_type": "markdown",
   "id": "0084d1b4",
   "metadata": {},
   "source": [
    "Remarkably, the majority of startups in our dataset, precisely 795 of them, have undergone just one round of funding. In stark contrast, only two startups have secured more than eight rounds of funding. Now, let's delve into **identifying these exceptional outliers within the dataset.**\n",
    "\n",
    "While running the **hypothesis test we can create 3 categories for no. of funding rounds ~ 1, 2, 3+.**"
   ]
  },
  {
   "cell_type": "code",
   "execution_count": 223,
   "id": "ed324f83",
   "metadata": {},
   "outputs": [
    {
     "data": {
      "text/html": [
       "<div>\n",
       "<style scoped>\n",
       "    .dataframe tbody tr th:only-of-type {\n",
       "        vertical-align: middle;\n",
       "    }\n",
       "\n",
       "    .dataframe tbody tr th {\n",
       "        vertical-align: top;\n",
       "    }\n",
       "\n",
       "    .dataframe thead th {\n",
       "        text-align: right;\n",
       "    }\n",
       "</style>\n",
       "<table border=\"1\" class=\"dataframe\">\n",
       "  <thead>\n",
       "    <tr style=\"text-align: right;\">\n",
       "      <th></th>\n",
       "      <th>permalink</th>\n",
       "      <th>name</th>\n",
       "      <th>homepage_url</th>\n",
       "      <th>category_list</th>\n",
       "      <th>funding_total_usd</th>\n",
       "      <th>status</th>\n",
       "      <th>country_code</th>\n",
       "      <th>state_code</th>\n",
       "      <th>region</th>\n",
       "      <th>city</th>\n",
       "      <th>funding_rounds</th>\n",
       "      <th>founded_at</th>\n",
       "      <th>first_funding_at</th>\n",
       "      <th>last_funding_at</th>\n",
       "    </tr>\n",
       "  </thead>\n",
       "  <tbody>\n",
       "    <tr>\n",
       "      <th>1210</th>\n",
       "      <td>/organization/snapdeal</td>\n",
       "      <td>Snapdeal</td>\n",
       "      <td>http://www.snapdeal.com</td>\n",
       "      <td>E-Commerce</td>\n",
       "      <td>1897699998</td>\n",
       "      <td>operating</td>\n",
       "      <td>IND</td>\n",
       "      <td>7</td>\n",
       "      <td>New Delhi</td>\n",
       "      <td>New Delhi</td>\n",
       "      <td>11</td>\n",
       "      <td>2010-01-01 00:00:00</td>\n",
       "      <td>2011-01-01</td>\n",
       "      <td>2015-08-18</td>\n",
       "    </tr>\n",
       "  </tbody>\n",
       "</table>\n",
       "</div>"
      ],
      "text/plain": [
       "                   permalink      name             homepage_url category_list  \\\n",
       "1210  /organization/snapdeal  Snapdeal  http://www.snapdeal.com    E-Commerce   \n",
       "\n",
       "      funding_total_usd     status country_code  state_code     region  \\\n",
       "1210         1897699998  operating          IND           7  New Delhi   \n",
       "\n",
       "           city  funding_rounds           founded_at first_funding_at  \\\n",
       "1210  New Delhi              11  2010-01-01 00:00:00       2011-01-01   \n",
       "\n",
       "     last_funding_at  \n",
       "1210      2015-08-18  "
      ]
     },
     "execution_count": 223,
     "metadata": {},
     "output_type": "execute_result"
    }
   ],
   "source": [
    "startup_df[startup_df['funding_rounds']==11] "
   ]
  },
  {
   "cell_type": "code",
   "execution_count": 221,
   "id": "a84a2c0f",
   "metadata": {},
   "outputs": [
    {
     "data": {
      "text/html": [
       "<div>\n",
       "<style scoped>\n",
       "    .dataframe tbody tr th:only-of-type {\n",
       "        vertical-align: middle;\n",
       "    }\n",
       "\n",
       "    .dataframe tbody tr th {\n",
       "        vertical-align: top;\n",
       "    }\n",
       "\n",
       "    .dataframe thead th {\n",
       "        text-align: right;\n",
       "    }\n",
       "</style>\n",
       "<table border=\"1\" class=\"dataframe\">\n",
       "  <thead>\n",
       "    <tr style=\"text-align: right;\">\n",
       "      <th></th>\n",
       "      <th>permalink</th>\n",
       "      <th>name</th>\n",
       "      <th>homepage_url</th>\n",
       "      <th>category_list</th>\n",
       "      <th>funding_total_usd</th>\n",
       "      <th>status</th>\n",
       "      <th>country_code</th>\n",
       "      <th>state_code</th>\n",
       "      <th>region</th>\n",
       "      <th>city</th>\n",
       "      <th>funding_rounds</th>\n",
       "      <th>founded_at</th>\n",
       "      <th>first_funding_at</th>\n",
       "      <th>last_funding_at</th>\n",
       "    </tr>\n",
       "  </thead>\n",
       "  <tbody>\n",
       "    <tr>\n",
       "      <th>434</th>\n",
       "      <td>/organization/flipkart</td>\n",
       "      <td>Flipkart</td>\n",
       "      <td>http://www.flipkart.com</td>\n",
       "      <td>E-Commerce|Online Shopping</td>\n",
       "      <td>3151140000</td>\n",
       "      <td>operating</td>\n",
       "      <td>IND</td>\n",
       "      <td>19</td>\n",
       "      <td>Bangalore</td>\n",
       "      <td>Bangalore</td>\n",
       "      <td>12</td>\n",
       "      <td>2007-09-01 00:00:00</td>\n",
       "      <td>2009-01-01</td>\n",
       "      <td>2015-07-28</td>\n",
       "    </tr>\n",
       "  </tbody>\n",
       "</table>\n",
       "</div>"
      ],
      "text/plain": [
       "                  permalink      name             homepage_url  \\\n",
       "434  /organization/flipkart  Flipkart  http://www.flipkart.com   \n",
       "\n",
       "                  category_list  funding_total_usd     status country_code  \\\n",
       "434  E-Commerce|Online Shopping         3151140000  operating          IND   \n",
       "\n",
       "     state_code     region       city  funding_rounds           founded_at  \\\n",
       "434          19  Bangalore  Bangalore              12  2007-09-01 00:00:00   \n",
       "\n",
       "    first_funding_at last_funding_at  \n",
       "434       2009-01-01      2015-07-28  "
      ]
     },
     "execution_count": 221,
     "metadata": {},
     "output_type": "execute_result"
    }
   ],
   "source": [
    "startup_df[startup_df['funding_rounds']==12]"
   ]
  },
  {
   "cell_type": "markdown",
   "id": "04dcf894",
   "metadata": {},
   "source": [
    "Flipkart and Snapdeal have the highest number of funding rounds.\n",
    "\n",
    "Now that we've gained a comprehensive understanding of the dataset, let's proceed to test our hypothesis."
   ]
  },
  {
   "cell_type": "markdown",
   "id": "acb8b80c",
   "metadata": {},
   "source": [
    "#### STEP 4 : SELECTING THE APPROPRIATE STATISTICAL TEST"
   ]
  },
  {
   "cell_type": "markdown",
   "id": "3efdaf3e",
   "metadata": {},
   "source": [
    "#### HYPOTHESIS TESTING I : MEAN FUNDS RAISED\n",
    "\n",
    "Null Hypothesis (H0): There is no statistically significant difference in the mean funds raised by currently operating startups and startups that have closed.\n",
    "\n",
    "Alternative Hypothesis (H1): There is a statistically significant difference in the mean funds raised by currently operating startups and startups that have closed.\n",
    "\n",
    "Using an **independent sample t-test** in this context is justified for the following reasons:\n",
    "1. **Comparing Two Independent Groups:** The independent sample t-test is suitable when we are comparing two separate and independent groups, which aligns perfectly with our scenario of **comparing currently operating startups with startups that have closed. These two groups are distinct and unrelated in terms of their current status.**\n",
    "\n",
    "2. **Continuous Numeric Data:** The t-test is designed for **comparing means of continuous numerical data,** which is precisely what we have in our hypothesis testing. We are interested in comparing the mean funds raised, a continuous variable, between the two groups.\n",
    "\n",
    "3. **Normal Distribution Assumption:** The t-test assumes that the **data within each group follows a normal distribution.** While this assumption should be checked, it **often holds reasonably well for financial data, especially when the sample size is sufficiently large ~ we know basis EDA that both have >30 sample size.**\n",
    "\n",
    "4. **Homogeneity of Variance:** We must check that using **Levene Test.**"
   ]
  },
  {
   "cell_type": "markdown",
   "id": "1a075f60",
   "metadata": {},
   "source": [
    "#### LEVENE'S TEST\n",
    "\n",
    "The Levene's Test is a statistical test used to **assess whether the variances of two or more groups are equal or homogenous.** It is particularly valuable when comparing multiple groups with the same independent variable to ensure that the assumption of homogeneity of variances, a key assumption in many statistical tests, is met.\n",
    "\n",
    "**Null Hypothesis (H0):** The null hypothesis in Levene's Test is that there are no significant differences in the variances of the groups being compared. In other words, it assumes that the variances are equal across all groups.\n",
    "\n",
    "**Alternative Hypothesis (H1):** The alternative hypothesis in Levene's Test is that there are significant differences in the variances of the groups being compared. If the p-value is sufficiently small, you would reject the null hypothesis in favor of the alternative, indicating that at least one group has a significantly different variance compared to the others.\n",
    "\n",
    "**In practical terms, Levene's Test helps you determine whether it's appropriate to use statistical tests that assume equal variances across groups, such as the independent sample t-test or analysis of variance (ANOVA). If the test indicates unequal variances, you may need to consider alternative statistical methods that are more robust to heteroscedasticity (unequal variances).**\n",
    "\n",
    "Overall, Levene's Test is a valuable tool in the field of statistics for assessing the homogeneity of variances and ensuring the validity of subsequent statistical analyses."
   ]
  },
  {
   "cell_type": "code",
   "execution_count": 224,
   "id": "decc1b26",
   "metadata": {},
   "outputs": [
    {
     "name": "stdout",
     "output_type": "stream",
     "text": [
      "Levene's Test Statistic: 0.36074537025282777\n",
      "P-value: 0.5482127964683872\n",
      "Fail to reject the null hypothesis: Variances are equal.\n"
     ]
    }
   ],
   "source": [
    "#Levene's test\n",
    "from scipy import stats\n",
    "\n",
    "group1 = startup_df[startup_df['status'] == 'operating']['funding_total_usd']\n",
    "group2 = startup_df[startup_df['status'] == 'closed']['funding_total_usd']\n",
    "\n",
    "stat, p_value = stats.levene(group1, group2)\n",
    "print(f\"Levene's Test Statistic: {stat}\")\n",
    "print(f\"P-value: {p_value}\")\n",
    "\n",
    "if p_value < 0.05:\n",
    "    print(\"Reject the null hypothesis: Variances are not equal.\")\n",
    "else:\n",
    "    print(\"Fail to reject the null hypothesis: Variances are equal.\")"
   ]
  },
  {
   "cell_type": "markdown",
   "id": "9059b33b",
   "metadata": {},
   "source": [
    "We have determined that the **variances are equal,** thus meeting the assumption for the **independent sample t-test.** We can now proceed with the independent sample t-test for equal variances confidently.\""
   ]
  },
  {
   "cell_type": "markdown",
   "id": "1c6b759c",
   "metadata": {},
   "source": [
    "#### HYPOTHESIS TESTING II : NUMBER OF FUNDING ROUNDS\n",
    "\n",
    "Null Hypothesis (H0): There is no statistically significant difference in the number of funding rounds between currently operating startups and startups that have closed.\n",
    "\n",
    "Alternative Hypothesis (H1): There is a statistically significant difference in the number of funding rounds between currently operating startups and startups that have closed.\n",
    "\n",
    "The **Chi-Square Test of Independence** is typically used when you have **categorical data and you want to investigate whether there is a statistically significant association or relationship between two categorical variables.**\n",
    "\n",
    "In our case, you are interested in the **number of funding rounds (which is likely a discrete, count variable) and the status of startups (which is categorical - either \"currently operating\" or \"closed\").**\n",
    "\n",
    "Here's why the **Chi-Square Test of Independence is suitable for our hypothesis.**\n",
    "\n",
    "We know that observations are independent, Cells in the **contingency table are mutually exclusive,** The only thing we need to check is if **~ Expected value of cells should be 5 or greater in at least 80% of cells.**"
   ]
  },
  {
   "cell_type": "markdown",
   "id": "17583dde",
   "metadata": {},
   "source": [
    "#### HYPOTHESIS TESTING I (MEAN FUNDS RAISED) :\n",
    "     Independent Sample T-Test for Equal Variances.\n",
    "\n",
    "#### HYPOTHESIS TESTING II (NUMBER OF FUNDING ROUNDS) :  \n",
    "     Chi-Square Test of Independence."
   ]
  },
  {
   "cell_type": "markdown",
   "id": "e839dd1c",
   "metadata": {},
   "source": [
    "#### STATISTICAL ANALYSIS"
   ]
  },
  {
   "cell_type": "markdown",
   "id": "51288c0b",
   "metadata": {},
   "source": [
    "#### HYPOTHESIS TESTING I (MEAN FUNDS RAISED) :\n",
    "     Independent Sample T-Test for Equal Variances."
   ]
  },
  {
   "cell_type": "code",
   "execution_count": 226,
   "id": "5ca02ad8",
   "metadata": {},
   "outputs": [
    {
     "data": {
      "text/plain": [
       "1085"
      ]
     },
     "execution_count": 226,
     "metadata": {},
     "output_type": "execute_result"
    }
   ],
   "source": [
    "#No. of startups which are operating\n",
    "startup_df[startup_df['status']=='operating']['funding_total_usd'].count()"
   ]
  },
  {
   "cell_type": "code",
   "execution_count": 225,
   "id": "e89d6f43",
   "metadata": {},
   "outputs": [
    {
     "data": {
      "text/plain": [
       "49"
      ]
     },
     "execution_count": 225,
     "metadata": {},
     "output_type": "execute_result"
    }
   ],
   "source": [
    "#No. of startups which are closed\n",
    "startup_df[startup_df['status']=='closed']['funding_total_usd'].count()"
   ]
  },
  {
   "cell_type": "code",
   "execution_count": 232,
   "id": "77bbe315",
   "metadata": {},
   "outputs": [
    {
     "data": {
      "text/html": [
       "<div>\n",
       "<style scoped>\n",
       "    .dataframe tbody tr th:only-of-type {\n",
       "        vertical-align: middle;\n",
       "    }\n",
       "\n",
       "    .dataframe tbody tr th {\n",
       "        vertical-align: top;\n",
       "    }\n",
       "\n",
       "    .dataframe thead th {\n",
       "        text-align: right;\n",
       "    }\n",
       "</style>\n",
       "<table border=\"1\" class=\"dataframe\">\n",
       "  <thead>\n",
       "    <tr style=\"text-align: right;\">\n",
       "      <th></th>\n",
       "      <th>Funds_operating</th>\n",
       "    </tr>\n",
       "  </thead>\n",
       "  <tbody>\n",
       "    <tr>\n",
       "      <th>0</th>\n",
       "      <td>10000000</td>\n",
       "    </tr>\n",
       "    <tr>\n",
       "      <th>1</th>\n",
       "      <td>6369507</td>\n",
       "    </tr>\n",
       "    <tr>\n",
       "      <th>2</th>\n",
       "      <td>4000000</td>\n",
       "    </tr>\n",
       "    <tr>\n",
       "      <th>3</th>\n",
       "      <td>20000</td>\n",
       "    </tr>\n",
       "    <tr>\n",
       "      <th>4</th>\n",
       "      <td>2065000</td>\n",
       "    </tr>\n",
       "  </tbody>\n",
       "</table>\n",
       "</div>"
      ],
      "text/plain": [
       "   Funds_operating\n",
       "0         10000000\n",
       "1          6369507\n",
       "2          4000000\n",
       "3            20000\n",
       "4          2065000"
      ]
     },
     "execution_count": 232,
     "metadata": {},
     "output_type": "execute_result"
    }
   ],
   "source": [
    "#Creating a new dataframe using loc() for the startups which are operating and their respective funds.\n",
    "\n",
    "df1 = startup_df.loc[startup_df['status']=='operating',['funding_total_usd']].reset_index(drop=True)\n",
    "df1 = df1.rename(columns={'funding_total_usd':'Funds_operating'})\n",
    "df1.head()"
   ]
  },
  {
   "cell_type": "code",
   "execution_count": 231,
   "id": "314a7f89",
   "metadata": {},
   "outputs": [
    {
     "data": {
      "text/html": [
       "<div>\n",
       "<style scoped>\n",
       "    .dataframe tbody tr th:only-of-type {\n",
       "        vertical-align: middle;\n",
       "    }\n",
       "\n",
       "    .dataframe tbody tr th {\n",
       "        vertical-align: top;\n",
       "    }\n",
       "\n",
       "    .dataframe thead th {\n",
       "        text-align: right;\n",
       "    }\n",
       "</style>\n",
       "<table border=\"1\" class=\"dataframe\">\n",
       "  <thead>\n",
       "    <tr style=\"text-align: right;\">\n",
       "      <th></th>\n",
       "      <th>Funds_closed</th>\n",
       "    </tr>\n",
       "  </thead>\n",
       "  <tbody>\n",
       "    <tr>\n",
       "      <th>0</th>\n",
       "      <td>25000</td>\n",
       "    </tr>\n",
       "    <tr>\n",
       "      <th>1</th>\n",
       "      <td>10000</td>\n",
       "    </tr>\n",
       "    <tr>\n",
       "      <th>2</th>\n",
       "      <td>10000000</td>\n",
       "    </tr>\n",
       "    <tr>\n",
       "      <th>3</th>\n",
       "      <td>40000</td>\n",
       "    </tr>\n",
       "    <tr>\n",
       "      <th>4</th>\n",
       "      <td>25000000</td>\n",
       "    </tr>\n",
       "  </tbody>\n",
       "</table>\n",
       "</div>"
      ],
      "text/plain": [
       "   Funds_closed\n",
       "0         25000\n",
       "1         10000\n",
       "2      10000000\n",
       "3         40000\n",
       "4      25000000"
      ]
     },
     "execution_count": 231,
     "metadata": {},
     "output_type": "execute_result"
    }
   ],
   "source": [
    "#Creating a new dataframe using loc() for the startups which are closed and their respective funds.\n",
    "\n",
    "df2 = startup_df.loc[startup_df['status']=='closed',['funding_total_usd']].reset_index(drop=True)\n",
    "df2 = df2.rename(columns={'funding_total_usd':'Funds_closed'})\n",
    "df2.head()"
   ]
  },
  {
   "cell_type": "code",
   "execution_count": 233,
   "id": "3c0f4e20",
   "metadata": {},
   "outputs": [
    {
     "data": {
      "text/html": [
       "<div>\n",
       "<style scoped>\n",
       "    .dataframe tbody tr th:only-of-type {\n",
       "        vertical-align: middle;\n",
       "    }\n",
       "\n",
       "    .dataframe tbody tr th {\n",
       "        vertical-align: top;\n",
       "    }\n",
       "\n",
       "    .dataframe thead th {\n",
       "        text-align: right;\n",
       "    }\n",
       "</style>\n",
       "<table border=\"1\" class=\"dataframe\">\n",
       "  <thead>\n",
       "    <tr style=\"text-align: right;\">\n",
       "      <th></th>\n",
       "      <th>Funds_operating</th>\n",
       "      <th>Funds_closed</th>\n",
       "    </tr>\n",
       "  </thead>\n",
       "  <tbody>\n",
       "    <tr>\n",
       "      <th>0</th>\n",
       "      <td>10000000</td>\n",
       "      <td>25000</td>\n",
       "    </tr>\n",
       "    <tr>\n",
       "      <th>1</th>\n",
       "      <td>6369507</td>\n",
       "      <td>10000</td>\n",
       "    </tr>\n",
       "    <tr>\n",
       "      <th>2</th>\n",
       "      <td>4000000</td>\n",
       "      <td>10000000</td>\n",
       "    </tr>\n",
       "    <tr>\n",
       "      <th>3</th>\n",
       "      <td>20000</td>\n",
       "      <td>40000</td>\n",
       "    </tr>\n",
       "    <tr>\n",
       "      <th>4</th>\n",
       "      <td>2065000</td>\n",
       "      <td>25000000</td>\n",
       "    </tr>\n",
       "  </tbody>\n",
       "</table>\n",
       "</div>"
      ],
      "text/plain": [
       "   Funds_operating  Funds_closed\n",
       "0         10000000         25000\n",
       "1          6369507         10000\n",
       "2          4000000      10000000\n",
       "3            20000         40000\n",
       "4          2065000      25000000"
      ]
     },
     "execution_count": 233,
     "metadata": {},
     "output_type": "execute_result"
    }
   ],
   "source": [
    "#Combining the two dataframes for further hypothesis testing\n",
    "\n",
    "df3 = pd.concat([df1, df2], axis = 1)\n",
    "df3.head()"
   ]
  },
  {
   "cell_type": "code",
   "execution_count": 239,
   "id": "e60d8e8e",
   "metadata": {},
   "outputs": [
    {
     "data": {
      "text/plain": [
       "23981373.343251728"
      ]
     },
     "execution_count": 239,
     "metadata": {},
     "output_type": "execute_result"
    }
   ],
   "source": [
    "# Funds_operating represents funds for operating startup\n",
    "#Calculating the mean for the operating startups\n",
    "\n",
    "mean_1 = df3['Funds_operating'].mean()\n",
    "mean_1"
   ]
  },
  {
   "cell_type": "code",
   "execution_count": 240,
   "id": "3a317cac",
   "metadata": {},
   "outputs": [
    {
     "data": {
      "text/plain": [
       "10322911.346938776"
      ]
     },
     "execution_count": 240,
     "metadata": {},
     "output_type": "execute_result"
    }
   ],
   "source": [
    "# Funds_closed represents funds for closed startup\n",
    "#Calculating the mean for the operating startups\n",
    "\n",
    "mean_2 = df3['Funds_closed'].mean()\n",
    "mean_2"
   ]
  },
  {
   "cell_type": "code",
   "execution_count": 241,
   "id": "4b4c419e",
   "metadata": {},
   "outputs": [
    {
     "name": "stdout",
     "output_type": "stream",
     "text": [
      "Mean funds (in million) for startup which are operating is: 23981373.343251728\n",
      "Mean funds (in million) for startup which are closed is: 10322911.346938776\n"
     ]
    }
   ],
   "source": [
    "print('Mean funds (in million) for startup which are operating is:',mean_1)\n",
    "print('Mean funds (in million) for startup which are closed is:',mean_2)"
   ]
  },
  {
   "cell_type": "markdown",
   "id": "1a94b4d5",
   "metadata": {},
   "source": [
    "**Null Hypothesis:**\n",
    "\n",
    "H0= There is **no significant difference between the mean funds raised by the two groups** i.e. startups which are operating & startups which are closed\n",
    "\n",
    "**i.e. H0: mean_1 = mean_2**\n",
    "\n",
    "**Alternative hypothesis:**\n",
    "\n",
    "H1 = there is **significant difference between the mean funds raised by the two groups** i.e. startups which are operating & startups which are closed\n",
    "\n",
    "**i.e. H1: mean_1 != mean_2**\n",
    "\n",
    "Also our **alpha is 0.05.**"
   ]
  },
  {
   "cell_type": "code",
   "execution_count": null,
   "id": "eef7ac23",
   "metadata": {},
   "outputs": [],
   "source": [
    "#load library\n",
    "\n",
    "from scipy.stats import ttest_ind"
   ]
  },
  {
   "cell_type": "code",
   "execution_count": 243,
   "id": "95afa732",
   "metadata": {},
   "outputs": [
    {
     "name": "stdout",
     "output_type": "stream",
     "text": [
      "T-statistic: 0.6085283061630911\n",
      "P-value: 0.5429592211146083\n"
     ]
    }
   ],
   "source": [
    "# Hypothesis Testing I : MEAN FUNDS RAISED \n",
    "# Independent T-Test with Equal Variances\n",
    "\n",
    "t, pvalue = ttest_ind(df3['Funds_operating'], df3['Funds_closed'], nan_policy = 'omit')\n",
    "\n",
    "# Print results\n",
    "print('T-statistic:', t)\n",
    "print('P-value:', pvalue)"
   ]
  },
  {
   "cell_type": "markdown",
   "id": "9d22ff34",
   "metadata": {},
   "source": [
    "The **p-value, which is greater than the chosen alpha level (i.e., 0.54 > 0.05),** leads us to **fail to reject the null hypothesis with 95% confidence.** \n",
    "\n",
    "Therefore, we conclude that there is **no statistically significant difference in the funds raised between currently operating startups and closed startups.**"
   ]
  },
  {
   "cell_type": "markdown",
   "id": "09abbb6c",
   "metadata": {},
   "source": [
    "#### HYPOTHESIS TESTING II (NUMBER OF FUNDING ROUNDS) :  \n",
    "     Chi-Square Test of Independence."
   ]
  },
  {
   "cell_type": "code",
   "execution_count": 244,
   "id": "fe297cc9",
   "metadata": {},
   "outputs": [
    {
     "data": {
      "text/html": [
       "<div>\n",
       "<style scoped>\n",
       "    .dataframe tbody tr th:only-of-type {\n",
       "        vertical-align: middle;\n",
       "    }\n",
       "\n",
       "    .dataframe tbody tr th {\n",
       "        vertical-align: top;\n",
       "    }\n",
       "\n",
       "    .dataframe thead th {\n",
       "        text-align: right;\n",
       "    }\n",
       "</style>\n",
       "<table border=\"1\" class=\"dataframe\">\n",
       "  <thead>\n",
       "    <tr style=\"text-align: right;\">\n",
       "      <th></th>\n",
       "      <th>permalink</th>\n",
       "      <th>name</th>\n",
       "      <th>homepage_url</th>\n",
       "      <th>category_list</th>\n",
       "      <th>funding_total_usd</th>\n",
       "      <th>status</th>\n",
       "      <th>country_code</th>\n",
       "      <th>state_code</th>\n",
       "      <th>region</th>\n",
       "      <th>city</th>\n",
       "      <th>funding_rounds</th>\n",
       "      <th>founded_at</th>\n",
       "      <th>first_funding_at</th>\n",
       "      <th>last_funding_at</th>\n",
       "      <th>rounds of funding category</th>\n",
       "    </tr>\n",
       "  </thead>\n",
       "  <tbody>\n",
       "    <tr>\n",
       "      <th>0</th>\n",
       "      <td>/organization/-fame</td>\n",
       "      <td>#fame</td>\n",
       "      <td>http://livfame.com</td>\n",
       "      <td>Media</td>\n",
       "      <td>10000000</td>\n",
       "      <td>operating</td>\n",
       "      <td>IND</td>\n",
       "      <td>16</td>\n",
       "      <td>Mumbai</td>\n",
       "      <td>Mumbai</td>\n",
       "      <td>1</td>\n",
       "      <td>NaN</td>\n",
       "      <td>2015-01-05</td>\n",
       "      <td>2015-01-05</td>\n",
       "      <td>1</td>\n",
       "    </tr>\n",
       "    <tr>\n",
       "      <th>2</th>\n",
       "      <td>/organization/21diamonds-india</td>\n",
       "      <td>21Diamonds</td>\n",
       "      <td>http://www.21diamonds.de</td>\n",
       "      <td>E-Commerce</td>\n",
       "      <td>6369507</td>\n",
       "      <td>operating</td>\n",
       "      <td>IND</td>\n",
       "      <td>10</td>\n",
       "      <td>New Delhi</td>\n",
       "      <td>Gurgaon</td>\n",
       "      <td>1</td>\n",
       "      <td>2012-06-01 00:00:00</td>\n",
       "      <td>2012-11-15</td>\n",
       "      <td>2012-11-15</td>\n",
       "      <td>1</td>\n",
       "    </tr>\n",
       "    <tr>\n",
       "      <th>3</th>\n",
       "      <td>/organization/247-learning-private</td>\n",
       "      <td>24x7 Learning</td>\n",
       "      <td>http://www.24x7learning.com</td>\n",
       "      <td>EdTech|Education|Systems</td>\n",
       "      <td>4000000</td>\n",
       "      <td>operating</td>\n",
       "      <td>IND</td>\n",
       "      <td>19</td>\n",
       "      <td>Bangalore</td>\n",
       "      <td>Bangalore</td>\n",
       "      <td>1</td>\n",
       "      <td>2001-01-01 00:00:00</td>\n",
       "      <td>2007-11-06</td>\n",
       "      <td>2007-11-06</td>\n",
       "      <td>1</td>\n",
       "    </tr>\n",
       "    <tr>\n",
       "      <th>4</th>\n",
       "      <td>/organization/33coupons</td>\n",
       "      <td>33Coupons</td>\n",
       "      <td>http://33coupons.in</td>\n",
       "      <td>Internet</td>\n",
       "      <td>20000</td>\n",
       "      <td>operating</td>\n",
       "      <td>IND</td>\n",
       "      <td>36</td>\n",
       "      <td>Kanpur</td>\n",
       "      <td>Kanpur</td>\n",
       "      <td>1</td>\n",
       "      <td>2015-05-01 00:00:00</td>\n",
       "      <td>2015-07-06</td>\n",
       "      <td>2015-07-06</td>\n",
       "      <td>1</td>\n",
       "    </tr>\n",
       "    <tr>\n",
       "      <th>5</th>\n",
       "      <td>/organization/3dsoc</td>\n",
       "      <td>3DSoC</td>\n",
       "      <td>http://www.3dsoc.com</td>\n",
       "      <td>3D|Mobile</td>\n",
       "      <td>2065000</td>\n",
       "      <td>operating</td>\n",
       "      <td>IND</td>\n",
       "      <td>19</td>\n",
       "      <td>Bangalore</td>\n",
       "      <td>Bangalore</td>\n",
       "      <td>2</td>\n",
       "      <td>2006-06-01 00:00:00</td>\n",
       "      <td>2007-12-01</td>\n",
       "      <td>2010-08-01</td>\n",
       "      <td>2</td>\n",
       "    </tr>\n",
       "  </tbody>\n",
       "</table>\n",
       "</div>"
      ],
      "text/plain": [
       "                            permalink           name  \\\n",
       "0                 /organization/-fame          #fame   \n",
       "2      /organization/21diamonds-india     21Diamonds   \n",
       "3  /organization/247-learning-private  24x7 Learning   \n",
       "4             /organization/33coupons      33Coupons   \n",
       "5                 /organization/3dsoc          3DSoC   \n",
       "\n",
       "                  homepage_url             category_list  funding_total_usd  \\\n",
       "0           http://livfame.com                     Media           10000000   \n",
       "2     http://www.21diamonds.de                E-Commerce            6369507   \n",
       "3  http://www.24x7learning.com  EdTech|Education|Systems            4000000   \n",
       "4          http://33coupons.in                  Internet              20000   \n",
       "5         http://www.3dsoc.com                 3D|Mobile            2065000   \n",
       "\n",
       "      status country_code  state_code     region       city  funding_rounds  \\\n",
       "0  operating          IND          16     Mumbai     Mumbai               1   \n",
       "2  operating          IND          10  New Delhi    Gurgaon               1   \n",
       "3  operating          IND          19  Bangalore  Bangalore               1   \n",
       "4  operating          IND          36     Kanpur     Kanpur               1   \n",
       "5  operating          IND          19  Bangalore  Bangalore               2   \n",
       "\n",
       "            founded_at first_funding_at last_funding_at  \\\n",
       "0                  NaN       2015-01-05      2015-01-05   \n",
       "2  2012-06-01 00:00:00       2012-11-15      2012-11-15   \n",
       "3  2001-01-01 00:00:00       2007-11-06      2007-11-06   \n",
       "4  2015-05-01 00:00:00       2015-07-06      2015-07-06   \n",
       "5  2006-06-01 00:00:00       2007-12-01      2010-08-01   \n",
       "\n",
       "  rounds of funding category  \n",
       "0                          1  \n",
       "2                          1  \n",
       "3                          1  \n",
       "4                          1  \n",
       "5                          2  "
      ]
     },
     "execution_count": 244,
     "metadata": {},
     "output_type": "execute_result"
    }
   ],
   "source": [
    "# Define a function to categorize funding rounds\n",
    "def categorize_rounds(round):\n",
    "    if round == 1:\n",
    "        return '1'\n",
    "    elif round == 2:\n",
    "        return '2'\n",
    "    else:\n",
    "        return '3+'\n",
    "\n",
    "# Apply the categorize_rounds function to create a new 'category' column\n",
    "startup_df['rounds of funding category'] = startup_df['funding_rounds'].apply(categorize_rounds)\n",
    "\n",
    "# Print the DataFrame with the new category column\n",
    "startup_df.head()"
   ]
  },
  {
   "cell_type": "code",
   "execution_count": 245,
   "id": "330a48af",
   "metadata": {},
   "outputs": [
    {
     "data": {
      "text/html": [
       "<div>\n",
       "<style scoped>\n",
       "    .dataframe tbody tr th:only-of-type {\n",
       "        vertical-align: middle;\n",
       "    }\n",
       "\n",
       "    .dataframe tbody tr th {\n",
       "        vertical-align: top;\n",
       "    }\n",
       "\n",
       "    .dataframe thead th {\n",
       "        text-align: right;\n",
       "    }\n",
       "</style>\n",
       "<table border=\"1\" class=\"dataframe\">\n",
       "  <thead>\n",
       "    <tr style=\"text-align: right;\">\n",
       "      <th>status</th>\n",
       "      <th>closed</th>\n",
       "      <th>operating</th>\n",
       "    </tr>\n",
       "    <tr>\n",
       "      <th>rounds of funding category</th>\n",
       "      <th></th>\n",
       "      <th></th>\n",
       "    </tr>\n",
       "  </thead>\n",
       "  <tbody>\n",
       "    <tr>\n",
       "      <th>1</th>\n",
       "      <td>39</td>\n",
       "      <td>756</td>\n",
       "    </tr>\n",
       "    <tr>\n",
       "      <th>2</th>\n",
       "      <td>7</td>\n",
       "      <td>198</td>\n",
       "    </tr>\n",
       "    <tr>\n",
       "      <th>3+</th>\n",
       "      <td>3</td>\n",
       "      <td>131</td>\n",
       "    </tr>\n",
       "  </tbody>\n",
       "</table>\n",
       "</div>"
      ],
      "text/plain": [
       "status                      closed  operating\n",
       "rounds of funding category                   \n",
       "1                               39        756\n",
       "2                                7        198\n",
       "3+                               3        131"
      ]
     },
     "execution_count": 245,
     "metadata": {},
     "output_type": "execute_result"
    }
   ],
   "source": [
    "# Create cross tab\n",
    "pd.crosstab(startup_df['rounds of funding category'], startup_df['status'])"
   ]
  },
  {
   "cell_type": "code",
   "execution_count": 249,
   "id": "893cfc67",
   "metadata": {},
   "outputs": [
    {
     "name": "stdout",
     "output_type": "stream",
     "text": [
      "Expected Frequencies:\n",
      "status                      closed  operating\n",
      "rounds of funding category                   \n",
      "1                               34        761\n",
      "2                                9        196\n",
      "3+                               6        128\n"
     ]
    }
   ],
   "source": [
    "import scipy\n",
    "contingency_table = pd.crosstab(startup_df['rounds of funding category'], startup_df['status'])\n",
    "\n",
    "# Calculate expected frequencies\n",
    "expected_frequencies = scipy.stats.contingency.expected_freq(contingency_table)\n",
    "\n",
    "# Create a DataFrame to display the expected frequencies\n",
    "expected_df = pd.DataFrame(expected_frequencies, columns=contingency_table.columns, index=contingency_table.index)\n",
    "\n",
    "# Display the expected frequencies\n",
    "print(\"Expected Frequencies:\")\n",
    "print(expected_df)"
   ]
  },
  {
   "cell_type": "markdown",
   "id": "8ce9af35",
   "metadata": {},
   "source": [
    "**Alpha is 0.05.**"
   ]
  },
  {
   "cell_type": "code",
   "execution_count": 250,
   "id": "dd06b94c",
   "metadata": {},
   "outputs": [
    {
     "name": "stdout",
     "output_type": "stream",
     "text": [
      "The p-value is 0.2908506204110049\n"
     ]
    }
   ],
   "source": [
    "# Import library\n",
    "from scipy.stats import chi2_contingency\n",
    "\n",
    "# Run the Chi Square Test\n",
    "\n",
    "chi2, pval, dof, exp_freq = chi2_contingency(contingency_table, correction = False)\n",
    "print('The p-value is',pval)"
   ]
  },
  {
   "cell_type": "markdown",
   "id": "eb39c2ad",
   "metadata": {},
   "source": [
    "The **p-value, which is greater than the chosen alpha level (i.e., 0.29 > 0.05),** leads us to **fail to reject the null hypothesis with 95% confidence.**\n",
    "\n",
    "This suggests that there is **no statistically significant difference in the number of funding rounds between currently operating startups and startups that have closed,** based on our dataset and chosen level of significance."
   ]
  },
  {
   "cell_type": "markdown",
   "id": "980b2b61",
   "metadata": {},
   "source": [
    "#### STEP 5 : CONCLUSION:\n",
    "\n",
    "#### HYPOTHESIS TESTING I (MEAN FUNDS RAISED) :\n",
    "     Independent Sample T-Test for Equal Variances.\n",
    "     \n",
    "**RESULT:**\n",
    "\n",
    "The **p-value, which is greater than the chosen alpha level (i.e., 0.54 > 0.05),** leads us to **fail to reject the null hypothesis with 95% confidence.** \n",
    "\n",
    "There is **no statistically significant difference in the funds raised by currently operating startups and startups that have     closed,** as per the independent sample t-test.\n",
    "\n",
    "#### HYPOTHESIS TESTING II (NUMBER OF FUNDING ROUNDS) :  \n",
    "     Chi-Square Test of Independence.\n",
    "     \n",
    "**RESULT:**\n",
    "\n",
    "The **p-value, which is greater than the chosen alpha level (i.e., 0.29 > 0.05),** leads us to **fail to reject the null hypothesis with 95% confidence.**\n",
    "\n",
    "There is **no statistically significant association between the number of funding rounds and the status of startups,** as           indicated by the Chi-Square Test of Independence."
   ]
  },
  {
   "cell_type": "markdown",
   "id": "20a993b6",
   "metadata": {},
   "source": [
    "## THANK YOU !!"
   ]
  }
 ],
 "metadata": {
  "kernelspec": {
   "display_name": "Python 3 (ipykernel)",
   "language": "python",
   "name": "python3"
  },
  "language_info": {
   "codemirror_mode": {
    "name": "ipython",
    "version": 3
   },
   "file_extension": ".py",
   "mimetype": "text/x-python",
   "name": "python",
   "nbconvert_exporter": "python",
   "pygments_lexer": "ipython3",
   "version": "3.10.9"
  }
 },
 "nbformat": 4,
 "nbformat_minor": 5
}
